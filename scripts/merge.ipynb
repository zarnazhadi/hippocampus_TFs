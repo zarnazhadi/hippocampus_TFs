{
 "cells": [
  {
   "cell_type": "code",
   "execution_count": 121,
   "metadata": {},
   "outputs": [
    {
     "name": "stdout",
     "output_type": "stream",
     "text": [
      "<class 'pandas.core.frame.DataFrame'>\n"
     ]
    },
    {
     "ename": "KeyboardInterrupt",
     "evalue": "",
     "output_type": "error",
     "traceback": [
      "\u001b[0;31m---------------------------------------------------------------------------\u001b[0m",
      "\u001b[0;31mKeyboardInterrupt\u001b[0m                         Traceback (most recent call last)",
      "\u001b[0;32m<ipython-input-121-4dbdc1540790>\u001b[0m in \u001b[0;36m<module>\u001b[0;34m\u001b[0m\n\u001b[1;32m      7\u001b[0m \u001b[0;34m\u001b[0m\u001b[0m\n\u001b[1;32m      8\u001b[0m \u001b[0;31m# full dataset\u001b[0m\u001b[0;34m\u001b[0m\u001b[0;34m\u001b[0m\u001b[0;34m\u001b[0m\u001b[0m\n\u001b[0;32m----> 9\u001b[0;31m \u001b[0mexp\u001b[0m \u001b[0;34m=\u001b[0m \u001b[0mpd\u001b[0m\u001b[0;34m.\u001b[0m\u001b[0mread_csv\u001b[0m\u001b[0;34m(\u001b[0m\u001b[0;34m\"RNA_seq.txt\"\u001b[0m\u001b[0;34m,\u001b[0m \u001b[0msep\u001b[0m\u001b[0;34m=\u001b[0m \u001b[0;34m'\\t'\u001b[0m\u001b[0;34m,\u001b[0m \u001b[0mheader\u001b[0m\u001b[0;34m=\u001b[0m \u001b[0;36m2\u001b[0m\u001b[0;34m)\u001b[0m\u001b[0;34m\u001b[0m\u001b[0;34m\u001b[0m\u001b[0m\n\u001b[0m\u001b[1;32m     10\u001b[0m \u001b[0;34m\u001b[0m\u001b[0m\n\u001b[1;32m     11\u001b[0m \u001b[0;31m# first 10 rows only\u001b[0m\u001b[0;34m\u001b[0m\u001b[0;34m\u001b[0m\u001b[0;34m\u001b[0m\u001b[0m\n",
      "\u001b[0;32m~/opt/anaconda3/lib/python3.7/site-packages/pandas/io/parsers.py\u001b[0m in \u001b[0;36mparser_f\u001b[0;34m(filepath_or_buffer, sep, delimiter, header, names, index_col, usecols, squeeze, prefix, mangle_dupe_cols, dtype, engine, converters, true_values, false_values, skipinitialspace, skiprows, skipfooter, nrows, na_values, keep_default_na, na_filter, verbose, skip_blank_lines, parse_dates, infer_datetime_format, keep_date_col, date_parser, dayfirst, cache_dates, iterator, chunksize, compression, thousands, decimal, lineterminator, quotechar, quoting, doublequote, escapechar, comment, encoding, dialect, error_bad_lines, warn_bad_lines, delim_whitespace, low_memory, memory_map, float_precision)\u001b[0m\n\u001b[1;32m    674\u001b[0m         )\n\u001b[1;32m    675\u001b[0m \u001b[0;34m\u001b[0m\u001b[0m\n\u001b[0;32m--> 676\u001b[0;31m         \u001b[0;32mreturn\u001b[0m \u001b[0m_read\u001b[0m\u001b[0;34m(\u001b[0m\u001b[0mfilepath_or_buffer\u001b[0m\u001b[0;34m,\u001b[0m \u001b[0mkwds\u001b[0m\u001b[0;34m)\u001b[0m\u001b[0;34m\u001b[0m\u001b[0;34m\u001b[0m\u001b[0m\n\u001b[0m\u001b[1;32m    677\u001b[0m \u001b[0;34m\u001b[0m\u001b[0m\n\u001b[1;32m    678\u001b[0m     \u001b[0mparser_f\u001b[0m\u001b[0;34m.\u001b[0m\u001b[0m__name__\u001b[0m \u001b[0;34m=\u001b[0m \u001b[0mname\u001b[0m\u001b[0;34m\u001b[0m\u001b[0;34m\u001b[0m\u001b[0m\n",
      "\u001b[0;32m~/opt/anaconda3/lib/python3.7/site-packages/pandas/io/parsers.py\u001b[0m in \u001b[0;36m_read\u001b[0;34m(filepath_or_buffer, kwds)\u001b[0m\n\u001b[1;32m    452\u001b[0m \u001b[0;34m\u001b[0m\u001b[0m\n\u001b[1;32m    453\u001b[0m     \u001b[0;32mtry\u001b[0m\u001b[0;34m:\u001b[0m\u001b[0;34m\u001b[0m\u001b[0;34m\u001b[0m\u001b[0m\n\u001b[0;32m--> 454\u001b[0;31m         \u001b[0mdata\u001b[0m \u001b[0;34m=\u001b[0m \u001b[0mparser\u001b[0m\u001b[0;34m.\u001b[0m\u001b[0mread\u001b[0m\u001b[0;34m(\u001b[0m\u001b[0mnrows\u001b[0m\u001b[0;34m)\u001b[0m\u001b[0;34m\u001b[0m\u001b[0;34m\u001b[0m\u001b[0m\n\u001b[0m\u001b[1;32m    455\u001b[0m     \u001b[0;32mfinally\u001b[0m\u001b[0;34m:\u001b[0m\u001b[0;34m\u001b[0m\u001b[0;34m\u001b[0m\u001b[0m\n\u001b[1;32m    456\u001b[0m         \u001b[0mparser\u001b[0m\u001b[0;34m.\u001b[0m\u001b[0mclose\u001b[0m\u001b[0;34m(\u001b[0m\u001b[0;34m)\u001b[0m\u001b[0;34m\u001b[0m\u001b[0;34m\u001b[0m\u001b[0m\n",
      "\u001b[0;32m~/opt/anaconda3/lib/python3.7/site-packages/pandas/io/parsers.py\u001b[0m in \u001b[0;36mread\u001b[0;34m(self, nrows)\u001b[0m\n\u001b[1;32m   1131\u001b[0m     \u001b[0;32mdef\u001b[0m \u001b[0mread\u001b[0m\u001b[0;34m(\u001b[0m\u001b[0mself\u001b[0m\u001b[0;34m,\u001b[0m \u001b[0mnrows\u001b[0m\u001b[0;34m=\u001b[0m\u001b[0;32mNone\u001b[0m\u001b[0;34m)\u001b[0m\u001b[0;34m:\u001b[0m\u001b[0;34m\u001b[0m\u001b[0;34m\u001b[0m\u001b[0m\n\u001b[1;32m   1132\u001b[0m         \u001b[0mnrows\u001b[0m \u001b[0;34m=\u001b[0m \u001b[0m_validate_integer\u001b[0m\u001b[0;34m(\u001b[0m\u001b[0;34m\"nrows\"\u001b[0m\u001b[0;34m,\u001b[0m \u001b[0mnrows\u001b[0m\u001b[0;34m)\u001b[0m\u001b[0;34m\u001b[0m\u001b[0;34m\u001b[0m\u001b[0m\n\u001b[0;32m-> 1133\u001b[0;31m         \u001b[0mret\u001b[0m \u001b[0;34m=\u001b[0m \u001b[0mself\u001b[0m\u001b[0;34m.\u001b[0m\u001b[0m_engine\u001b[0m\u001b[0;34m.\u001b[0m\u001b[0mread\u001b[0m\u001b[0;34m(\u001b[0m\u001b[0mnrows\u001b[0m\u001b[0;34m)\u001b[0m\u001b[0;34m\u001b[0m\u001b[0;34m\u001b[0m\u001b[0m\n\u001b[0m\u001b[1;32m   1134\u001b[0m \u001b[0;34m\u001b[0m\u001b[0m\n\u001b[1;32m   1135\u001b[0m         \u001b[0;31m# May alter columns / col_dict\u001b[0m\u001b[0;34m\u001b[0m\u001b[0;34m\u001b[0m\u001b[0;34m\u001b[0m\u001b[0m\n",
      "\u001b[0;32m~/opt/anaconda3/lib/python3.7/site-packages/pandas/io/parsers.py\u001b[0m in \u001b[0;36mread\u001b[0;34m(self, nrows)\u001b[0m\n\u001b[1;32m   2035\u001b[0m     \u001b[0;32mdef\u001b[0m \u001b[0mread\u001b[0m\u001b[0;34m(\u001b[0m\u001b[0mself\u001b[0m\u001b[0;34m,\u001b[0m \u001b[0mnrows\u001b[0m\u001b[0;34m=\u001b[0m\u001b[0;32mNone\u001b[0m\u001b[0;34m)\u001b[0m\u001b[0;34m:\u001b[0m\u001b[0;34m\u001b[0m\u001b[0;34m\u001b[0m\u001b[0m\n\u001b[1;32m   2036\u001b[0m         \u001b[0;32mtry\u001b[0m\u001b[0;34m:\u001b[0m\u001b[0;34m\u001b[0m\u001b[0;34m\u001b[0m\u001b[0m\n\u001b[0;32m-> 2037\u001b[0;31m             \u001b[0mdata\u001b[0m \u001b[0;34m=\u001b[0m \u001b[0mself\u001b[0m\u001b[0;34m.\u001b[0m\u001b[0m_reader\u001b[0m\u001b[0;34m.\u001b[0m\u001b[0mread\u001b[0m\u001b[0;34m(\u001b[0m\u001b[0mnrows\u001b[0m\u001b[0;34m)\u001b[0m\u001b[0;34m\u001b[0m\u001b[0;34m\u001b[0m\u001b[0m\n\u001b[0m\u001b[1;32m   2038\u001b[0m         \u001b[0;32mexcept\u001b[0m \u001b[0mStopIteration\u001b[0m\u001b[0;34m:\u001b[0m\u001b[0;34m\u001b[0m\u001b[0;34m\u001b[0m\u001b[0m\n\u001b[1;32m   2039\u001b[0m             \u001b[0;32mif\u001b[0m \u001b[0mself\u001b[0m\u001b[0;34m.\u001b[0m\u001b[0m_first_chunk\u001b[0m\u001b[0;34m:\u001b[0m\u001b[0;34m\u001b[0m\u001b[0;34m\u001b[0m\u001b[0m\n",
      "\u001b[0;32mpandas/_libs/parsers.pyx\u001b[0m in \u001b[0;36mpandas._libs.parsers.TextReader.read\u001b[0;34m()\u001b[0m\n",
      "\u001b[0;32mpandas/_libs/parsers.pyx\u001b[0m in \u001b[0;36mpandas._libs.parsers.TextReader._read_low_memory\u001b[0;34m()\u001b[0m\n",
      "\u001b[0;32mpandas/_libs/parsers.pyx\u001b[0m in \u001b[0;36mpandas._libs.parsers.TextReader._read_rows\u001b[0;34m()\u001b[0m\n",
      "\u001b[0;32mpandas/_libs/parsers.pyx\u001b[0m in \u001b[0;36mpandas._libs.parsers.TextReader._convert_column_data\u001b[0;34m()\u001b[0m\n",
      "\u001b[0;32mpandas/_libs/parsers.pyx\u001b[0m in \u001b[0;36mpandas._libs.parsers.TextReader._convert_tokens\u001b[0;34m()\u001b[0m\n",
      "\u001b[0;32mpandas/_libs/parsers.pyx\u001b[0m in \u001b[0;36mpandas._libs.parsers.TextReader._convert_with_dtype\u001b[0;34m()\u001b[0m\n",
      "\u001b[0;32m~/opt/anaconda3/lib/python3.7/site-packages/pandas/core/dtypes/common.py\u001b[0m in \u001b[0;36mis_categorical_dtype\u001b[0;34m(arr_or_dtype)\u001b[0m\n\u001b[1;32m    540\u001b[0m \u001b[0;34m\u001b[0m\u001b[0m\n\u001b[1;32m    541\u001b[0m \u001b[0;34m\u001b[0m\u001b[0m\n\u001b[0;32m--> 542\u001b[0;31m \u001b[0;32mdef\u001b[0m \u001b[0mis_categorical_dtype\u001b[0m\u001b[0;34m(\u001b[0m\u001b[0marr_or_dtype\u001b[0m\u001b[0;34m)\u001b[0m \u001b[0;34m->\u001b[0m \u001b[0mbool\u001b[0m\u001b[0;34m:\u001b[0m\u001b[0;34m\u001b[0m\u001b[0;34m\u001b[0m\u001b[0m\n\u001b[0m\u001b[1;32m    543\u001b[0m     \"\"\"\n\u001b[1;32m    544\u001b[0m     \u001b[0mCheck\u001b[0m \u001b[0mwhether\u001b[0m \u001b[0man\u001b[0m \u001b[0marray\u001b[0m\u001b[0;34m-\u001b[0m\u001b[0mlike\u001b[0m \u001b[0;32mor\u001b[0m \u001b[0mdtype\u001b[0m \u001b[0;32mis\u001b[0m \u001b[0mof\u001b[0m \u001b[0mthe\u001b[0m \u001b[0mCategorical\u001b[0m \u001b[0mdtype\u001b[0m\u001b[0;34m.\u001b[0m\u001b[0;34m\u001b[0m\u001b[0;34m\u001b[0m\u001b[0m\n",
      "\u001b[0;31mKeyboardInterrupt\u001b[0m: "
     ]
    }
   ],
   "source": [
    "import pandas as pd \n",
    "\n",
    "tfs = pd.read_csv(\"TF.csv\", sep= '\\t', header=0) \n",
    "tfs.head()\n",
    "\n",
    "print(type(tfs)) # <class 'pandas.core.frame.DataFrame'>\n",
    "\n",
    "# full dataset\n",
    "exp = pd.read_csv(\"RNA_seq.txt\", sep= '\\t', header= 2)\n",
    "\n",
    "# first 10 rows only \n",
    "exp_rows_small = pd.read_csv(\"RNA_seq.txt\", sep= '\\t', header= 2, nrows= 10)\n",
    "print(exp_rows_small.head())\n",
    "\n",
    "# first 3 columns only\n",
    "fields = ['Name', 'Description',  'GTEX-1117F-0226-SM-5GZZ7']\n",
    "exp_cols_small = pd.read_csv(\"RNA_seq.txt\", sep= '\\t', header= 2, usecols=fields)\n",
    "\n",
    "# See content in 'Name'\n",
    "print(exp_cols_small.Name)"
   ]
  },
  {
   "cell_type": "code",
   "execution_count": 128,
   "metadata": {},
   "outputs": [
    {
     "name": "stdout",
     "output_type": "stream",
     "text": [
      "['ZBTB' 'Homeobox' 'T-box' 'PAX' 'TF_bZIP' 'zf-C2H2' 'Pou' 'THR-like'\n",
      " 'ESR-like' 'CSD' 'ARID' 'THAP' 'Fork_head' 'SAND' 'bHLH' 'zf-C2HC' 'E2F'\n",
      " 'zf-MIZ' 'zf-GATA' 'DM' 'CP2' 'RHD' 'MH1' 'ETS' 'CSRNP_N' 'zf-BED' 'MYB'\n",
      " 'HMG' 'HTH' 'MBD' 'IRF' 'TSC22' 'CSL' 'HPD' 'P53' 'SRF' 'zf-NF-X1' 'COE'\n",
      " 'CUT' 'GCFC' 'TF_Otx' 'AP-2' 'HMGA' 'DACH' 'Tub' 'RFX' 'TEA' 'RXR-like'\n",
      " 'AF-4' 'Nrf1' 'STAT' 'GTF2I' 'HSF' 'GCM' 'GCNF-like' 'LRRFIP' 'NF-YB'\n",
      " 'NCU-G1' 'Runt' 'NF-YC' 'SF-like' 'zf-CCCH' 'CTF/NFI' 'NGFIB-like' 'PC4'\n",
      " 'NF-YA' 'Miscellaneous' 'zf-LITAF-like' 'CBF' 'NDT80/PhoG' 'CG-1'\n",
      " 'Others']\n",
      "['ZBTB' 'Homeobox' 'T-box' 'PAX' 'TF_bZIP' 'zf-C2H2' 'Pou' 'THR-like'\n",
      " 'ESR-like' 'CSD' 'ARID' 'THAP' 'Fork_head' 'SAND' 'bHLH' 'zf-C2HC' 'E2F'\n",
      " 'zf-MIZ' 'zf-GATA' 'DM' 'CP2' 'RHD' 'MH1' 'ETS' 'CSRNP_N' 'zf-BED' 'MYB'\n",
      " 'HMG' 'HTH' 'MBD' 'IRF' 'TSC22' 'CSL' 'HPD' 'P53' 'SRF' 'zf-NF-X1' 'COE'\n",
      " 'CUT' 'GCFC' 'TF_Otx' 'AP-2' 'HMGA' 'DACH' 'Tub' 'RFX' 'TEA' 'RXR-like'\n",
      " 'AF-4' 'Nrf1' 'STAT' 'GTF2I' 'HSF' 'GCM' 'GCNF-like' 'LRRFIP' 'NF-YB'\n",
      " 'NCU-G1' 'Runt' 'NF-YC' 'SF-like' 'zf-CCCH' 'CTF/NFI' 'NGFIB-like' 'PC4'\n",
      " 'NF-YA' 'Miscellaneous' 'zf-LITAF-like' 'CBF' 'NDT80/PhoG' 'CG-1'\n",
      " 'Others']\n",
      "['ZBTB' 'Homeobox' 'T-box' 'PAX' 'TF_bZIP' 'zf-C2H2' 'Pou' 'THR-like'\n",
      " 'ESR-like' 'CSD' 'ARID' 'THAP' 'Fork_head' 'SAND' 'bHLH' 'zf-C2HC' 'E2F'\n",
      " 'zf-MIZ' 'zf-GATA' 'DM' 'CP2' 'RHD' 'MH1' 'ETS' 'CSRNP_N' 'zf-BED' 'MYB'\n",
      " 'HMG' 'HTH' 'MBD' 'IRF' 'TSC22' 'CSL' 'HPD' 'P53' 'SRF' 'zf-NF-X1' 'COE'\n",
      " 'CUT' 'GCFC' 'TF_Otx' 'AP-2' 'HMGA' 'DACH' 'Tub' 'RFX' 'TEA' 'RXR-like'\n",
      " 'AF-4' 'Nrf1' 'STAT' 'GTF2I' 'HSF' 'GCM' 'GCNF-like' 'LRRFIP' 'NF-YB'\n",
      " 'NCU-G1' 'Runt' 'NF-YC' 'SF-like' 'zf-CCCH' 'CTF/NFI' 'NGFIB-like' 'PC4'\n",
      " 'NF-YA' 'Miscellaneous' 'zf-LITAF-like' 'CBF' 'NDT80/PhoG' 'CG-1'\n",
      " 'Others']\n",
      "['ZBTB' 'Homeobox' 'T-box' 'PAX' 'TF_bZIP' 'zf-C2H2' 'Pou' 'THR-like'\n",
      " 'ESR-like' 'CSD' 'ARID' 'THAP' 'Fork_head' 'SAND' 'bHLH' 'zf-C2HC' 'E2F'\n",
      " 'zf-MIZ' 'zf-GATA' 'DM' 'CP2' 'RHD' 'MH1' 'ETS' 'CSRNP_N' 'zf-BED' 'MYB'\n",
      " 'HMG' 'HTH' 'MBD' 'IRF' 'TSC22' 'CSL' 'HPD' 'P53' 'SRF' 'zf-NF-X1' 'COE'\n",
      " 'CUT' 'GCFC' 'TF_Otx' 'AP-2' 'HMGA' 'DACH' 'Tub' 'RFX' 'TEA' 'RXR-like'\n",
      " 'AF-4' 'Nrf1' 'STAT' 'GTF2I' 'HSF' 'GCM' 'GCNF-like' 'LRRFIP' 'NF-YB'\n",
      " 'NCU-G1' 'Runt' 'NF-YC' 'SF-like' 'zf-CCCH' 'CTF/NFI' 'NGFIB-like' 'PC4'\n",
      " 'NF-YA' 'Miscellaneous' 'zf-LITAF-like' 'CBF' 'NDT80/PhoG' 'CG-1'\n",
      " 'Others']\n",
      "['ZBTB' 'Homeobox' 'T-box' 'PAX' 'TF_bZIP' 'zf-C2H2' 'Pou' 'THR-like'\n",
      " 'ESR-like' 'CSD' 'ARID' 'THAP' 'Fork_head' 'SAND' 'bHLH' 'zf-C2HC' 'E2F'\n",
      " 'zf-MIZ' 'zf-GATA' 'DM' 'CP2' 'RHD' 'MH1' 'ETS' 'CSRNP_N' 'zf-BED' 'MYB'\n",
      " 'HMG' 'HTH' 'MBD' 'IRF' 'TSC22' 'CSL' 'HPD' 'P53' 'SRF' 'zf-NF-X1' 'COE'\n",
      " 'CUT' 'GCFC' 'TF_Otx' 'AP-2' 'HMGA' 'DACH' 'Tub' 'RFX' 'TEA' 'RXR-like'\n",
      " 'AF-4' 'Nrf1' 'STAT' 'GTF2I' 'HSF' 'GCM' 'GCNF-like' 'LRRFIP' 'NF-YB'\n",
      " 'NCU-G1' 'Runt' 'NF-YC' 'SF-like' 'zf-CCCH' 'CTF/NFI' 'NGFIB-like' 'PC4'\n",
      " 'NF-YA' 'Miscellaneous' 'zf-LITAF-like' 'CBF' 'NDT80/PhoG' 'CG-1'\n",
      " 'Others']\n",
      "['ZBTB' 'Homeobox' 'T-box' 'PAX' 'TF_bZIP' 'zf-C2H2' 'Pou' 'THR-like'\n",
      " 'ESR-like' 'CSD' 'ARID' 'THAP' 'Fork_head' 'SAND' 'bHLH' 'zf-C2HC' 'E2F'\n",
      " 'zf-MIZ' 'zf-GATA' 'DM' 'CP2' 'RHD' 'MH1' 'ETS' 'CSRNP_N' 'zf-BED' 'MYB'\n",
      " 'HMG' 'HTH' 'MBD' 'IRF' 'TSC22' 'CSL' 'HPD' 'P53' 'SRF' 'zf-NF-X1' 'COE'\n",
      " 'CUT' 'GCFC' 'TF_Otx' 'AP-2' 'HMGA' 'DACH' 'Tub' 'RFX' 'TEA' 'RXR-like'\n",
      " 'AF-4' 'Nrf1' 'STAT' 'GTF2I' 'HSF' 'GCM' 'GCNF-like' 'LRRFIP' 'NF-YB'\n",
      " 'NCU-G1' 'Runt' 'NF-YC' 'SF-like' 'zf-CCCH' 'CTF/NFI' 'NGFIB-like' 'PC4'\n",
      " 'NF-YA' 'Miscellaneous' 'zf-LITAF-like' 'CBF' 'NDT80/PhoG' 'CG-1'\n",
      " 'Others']\n"
     ]
    }
   ],
   "source": [
    "for col in tfs:\n",
    "    print(tfs['Family'].unique())"
   ]
  },
  {
   "cell_type": "code",
   "execution_count": 118,
   "metadata": {},
   "outputs": [
    {
     "data": {
      "text/html": [
       "<div>\n",
       "<style scoped>\n",
       "    .dataframe tbody tr th:only-of-type {\n",
       "        vertical-align: middle;\n",
       "    }\n",
       "\n",
       "    .dataframe tbody tr th {\n",
       "        vertical-align: top;\n",
       "    }\n",
       "\n",
       "    .dataframe thead th {\n",
       "        text-align: right;\n",
       "    }\n",
       "</style>\n",
       "<table border=\"1\" class=\"dataframe\">\n",
       "  <thead>\n",
       "    <tr style=\"text-align: right;\">\n",
       "      <th></th>\n",
       "      <th>Name</th>\n",
       "      <th>Description</th>\n",
       "      <th>GTEX-1117F-0226-SM-5GZZ7</th>\n",
       "    </tr>\n",
       "  </thead>\n",
       "  <tbody>\n",
       "    <tr>\n",
       "      <th>0</th>\n",
       "      <td>ENSG00000223972.5</td>\n",
       "      <td>DDX11L1</td>\n",
       "      <td>0.00000</td>\n",
       "    </tr>\n",
       "    <tr>\n",
       "      <th>1</th>\n",
       "      <td>ENSG00000227232.5</td>\n",
       "      <td>WASH7P</td>\n",
       "      <td>8.76400</td>\n",
       "    </tr>\n",
       "    <tr>\n",
       "      <th>2</th>\n",
       "      <td>ENSG00000278267.1</td>\n",
       "      <td>MIR6859-1</td>\n",
       "      <td>0.00000</td>\n",
       "    </tr>\n",
       "    <tr>\n",
       "      <th>3</th>\n",
       "      <td>ENSG00000243485.5</td>\n",
       "      <td>MIR1302-2HG</td>\n",
       "      <td>0.07187</td>\n",
       "    </tr>\n",
       "    <tr>\n",
       "      <th>4</th>\n",
       "      <td>ENSG00000237613.2</td>\n",
       "      <td>FAM138A</td>\n",
       "      <td>0.00000</td>\n",
       "    </tr>\n",
       "  </tbody>\n",
       "</table>\n",
       "</div>"
      ],
      "text/plain": [
       "                Name  Description  GTEX-1117F-0226-SM-5GZZ7\n",
       "0  ENSG00000223972.5      DDX11L1                   0.00000\n",
       "1  ENSG00000227232.5       WASH7P                   8.76400\n",
       "2  ENSG00000278267.1    MIR6859-1                   0.00000\n",
       "3  ENSG00000243485.5  MIR1302-2HG                   0.07187\n",
       "4  ENSG00000237613.2      FAM138A                   0.00000"
      ]
     },
     "execution_count": 118,
     "metadata": {},
     "output_type": "execute_result"
    }
   ],
   "source": [
    "exp_col.head()"
   ]
  },
  {
   "cell_type": "code",
   "execution_count": 124,
   "metadata": {},
   "outputs": [
    {
     "data": {
      "text/html": [
       "<div>\n",
       "<style scoped>\n",
       "    .dataframe tbody tr th:only-of-type {\n",
       "        vertical-align: middle;\n",
       "    }\n",
       "\n",
       "    .dataframe tbody tr th {\n",
       "        vertical-align: top;\n",
       "    }\n",
       "\n",
       "    .dataframe thead th {\n",
       "        text-align: right;\n",
       "    }\n",
       "</style>\n",
       "<table border=\"1\" class=\"dataframe\">\n",
       "  <thead>\n",
       "    <tr style=\"text-align: right;\">\n",
       "      <th></th>\n",
       "      <th>Species</th>\n",
       "      <th>Symbol</th>\n",
       "      <th>Ensembl</th>\n",
       "      <th>Family</th>\n",
       "      <th>Protein</th>\n",
       "      <th>Entrez ID</th>\n",
       "    </tr>\n",
       "  </thead>\n",
       "  <tbody>\n",
       "    <tr>\n",
       "      <th>0</th>\n",
       "      <td>Homo_sapiens</td>\n",
       "      <td>ZBTB8B</td>\n",
       "      <td>ENSG00000273274</td>\n",
       "      <td>ZBTB</td>\n",
       "      <td>ENSP00000476499;ENSP00000476499;</td>\n",
       "      <td>728116</td>\n",
       "    </tr>\n",
       "    <tr>\n",
       "      <th>1</th>\n",
       "      <td>Homo_sapiens</td>\n",
       "      <td>GSX2</td>\n",
       "      <td>ENSG00000180613</td>\n",
       "      <td>Homeobox</td>\n",
       "      <td>ENSP00000319118;ENSP00000483522;</td>\n",
       "      <td>170825</td>\n",
       "    </tr>\n",
       "    <tr>\n",
       "      <th>2</th>\n",
       "      <td>Homo_sapiens</td>\n",
       "      <td>TBX2</td>\n",
       "      <td>ENSG00000121068</td>\n",
       "      <td>T-box</td>\n",
       "      <td>ENSP00000404781;ENSP00000240328;</td>\n",
       "      <td>6909</td>\n",
       "    </tr>\n",
       "    <tr>\n",
       "      <th>3</th>\n",
       "      <td>Homo_sapiens</td>\n",
       "      <td>PAX8</td>\n",
       "      <td>ENSG00000125618</td>\n",
       "      <td>PAX</td>\n",
       "      <td>ENSP00000395498;ENSP00000263335;ENSP0000038076...</td>\n",
       "      <td>7849</td>\n",
       "    </tr>\n",
       "    <tr>\n",
       "      <th>4</th>\n",
       "      <td>Homo_sapiens</td>\n",
       "      <td>CREB3L1</td>\n",
       "      <td>ENSG00000157613</td>\n",
       "      <td>TF_bZIP</td>\n",
       "      <td>ENSP00000481956;ENSP00000436574;</td>\n",
       "      <td>90993</td>\n",
       "    </tr>\n",
       "  </tbody>\n",
       "</table>\n",
       "</div>"
      ],
      "text/plain": [
       "        Species   Symbol          Ensembl    Family  \\\n",
       "0  Homo_sapiens   ZBTB8B  ENSG00000273274      ZBTB   \n",
       "1  Homo_sapiens     GSX2  ENSG00000180613  Homeobox   \n",
       "2  Homo_sapiens     TBX2  ENSG00000121068     T-box   \n",
       "3  Homo_sapiens     PAX8  ENSG00000125618       PAX   \n",
       "4  Homo_sapiens  CREB3L1  ENSG00000157613   TF_bZIP   \n",
       "\n",
       "                                             Protein Entrez ID  \n",
       "0                   ENSP00000476499;ENSP00000476499;    728116  \n",
       "1                   ENSP00000319118;ENSP00000483522;    170825  \n",
       "2                   ENSP00000404781;ENSP00000240328;      6909  \n",
       "3  ENSP00000395498;ENSP00000263335;ENSP0000038076...      7849  \n",
       "4                   ENSP00000481956;ENSP00000436574;     90993  "
      ]
     },
     "execution_count": 124,
     "metadata": {},
     "output_type": "execute_result"
    }
   ],
   "source": [
    "import pandas as pd \n",
    "\n",
    "tfs = pd.read_csv(\"TF.csv\", sep= '\\t', header=0) \n",
    "tfs.head()"
   ]
  },
  {
   "cell_type": "code",
   "execution_count": 131,
   "metadata": {},
   "outputs": [],
   "source": [
    "exp_col['Ensembl'] = exp_col['Name'].str[0:-2]"
   ]
  },
  {
   "cell_type": "code",
   "execution_count": 132,
   "metadata": {},
   "outputs": [
    {
     "name": "stdout",
     "output_type": "stream",
     "text": [
      "                    Name  Description  GTEX-1117F-0226-SM-5GZZ7  \\\n",
      "0      ENSG00000223972.5      DDX11L1                   0.00000   \n",
      "1      ENSG00000227232.5       WASH7P                   8.76400   \n",
      "2      ENSG00000278267.1    MIR6859-1                   0.00000   \n",
      "3      ENSG00000243485.5  MIR1302-2HG                   0.07187   \n",
      "4      ENSG00000237613.2      FAM138A                   0.00000   \n",
      "...                  ...          ...                       ...   \n",
      "56195  ENSG00000198695.2       MT-ND6                3799.00000   \n",
      "56196  ENSG00000210194.1        MT-TE                  16.24000   \n",
      "56197  ENSG00000198727.2       MT-CYB                6938.00000   \n",
      "56198  ENSG00000210195.2        MT-TT                   0.94300   \n",
      "56199  ENSG00000210196.2        MT-TP                   0.00000   \n",
      "\n",
      "               Ensembl  \n",
      "0      ENSG00000223972  \n",
      "1      ENSG00000227232  \n",
      "2      ENSG00000278267  \n",
      "3      ENSG00000243485  \n",
      "4      ENSG00000237613  \n",
      "...                ...  \n",
      "56195  ENSG00000198695  \n",
      "56196  ENSG00000210194  \n",
      "56197  ENSG00000198727  \n",
      "56198  ENSG00000210195  \n",
      "56199  ENSG00000210196  \n",
      "\n",
      "[56200 rows x 4 columns]\n"
     ]
    }
   ],
   "source": [
    "print(exp_col)"
   ]
  },
  {
   "cell_type": "code",
   "execution_count": 133,
   "metadata": {},
   "outputs": [],
   "source": [
    "merged_inner = pd.merge(left=exp_col, right=tfs, left_on='Ensembl', right_on='Ensembl')"
   ]
  },
  {
   "cell_type": "code",
   "execution_count": 135,
   "metadata": {},
   "outputs": [
    {
     "name": "stdout",
     "output_type": "stream",
     "text": [
      "                  Name     Description  GTEX-1117F-0226-SM-5GZZ7  \\\n",
      "0    ENSG00000197921.5            HES5                   0.09531   \n",
      "1    ENSG00000173673.7            HES3                   0.08929   \n",
      "2    ENSG00000007968.6            E2F2                   0.95800   \n",
      "3    ENSG00000117318.8             ID3                  70.41000   \n",
      "4    ENSG00000131910.4           NR0B2                   0.10770   \n",
      "..                 ...             ...                       ...   \n",
      "628  ENSG00000171116.7           HSFX1                   0.06341   \n",
      "629  ENSG00000283463.1  XX-FW81066F1.2                   0.00000   \n",
      "630  ENSG00000189420.8           ZFP92                   0.95830   \n",
      "631  ENSG00000184895.7             SRY                   0.00000   \n",
      "632  ENSG00000176679.8         TGIF2LY                   0.00000   \n",
      "\n",
      "             Ensembl       Species   Symbol         Family  \\\n",
      "0    ENSG00000197921  Homo_sapiens     HES5           bHLH   \n",
      "1    ENSG00000173673  Homo_sapiens     HES3           bHLH   \n",
      "2    ENSG00000007968  Homo_sapiens     E2F2            E2F   \n",
      "3    ENSG00000117318  Homo_sapiens      ID3           bHLH   \n",
      "4    ENSG00000131910  Homo_sapiens    NR0B2  Miscellaneous   \n",
      "..               ...           ...      ...            ...   \n",
      "628  ENSG00000171116  Homo_sapiens    HSFX1            HSF   \n",
      "629  ENSG00000283463  Homo_sapiens    HSFX4            HSF   \n",
      "630  ENSG00000189420  Homo_sapiens    ZFP92        zf-C2H2   \n",
      "631  ENSG00000184895  Homo_sapiens      SRY            HMG   \n",
      "632  ENSG00000176679  Homo_sapiens  TGIF2LY       Homeobox   \n",
      "\n",
      "                              Protein  Entrez ID  \n",
      "0                    ENSP00000367714;     388585  \n",
      "1                    ENSP00000367130;     390992  \n",
      "2                    ENSP00000355249;       1870  \n",
      "3                    ENSP00000363689;       3399  \n",
      "4                    ENSP00000254227;       8431  \n",
      "..                                ...        ...  \n",
      "628                  ENSP00000359444;  100506164  \n",
      "629                  ENSP00000489814;  101927685  \n",
      "630                  ENSP00000462054;     139735  \n",
      "631                  ENSP00000372547;       6736  \n",
      "632  ENSP00000318502;ENSP00000453750;      90655  \n",
      "\n",
      "[633 rows x 9 columns]\n"
     ]
    }
   ],
   "source": [
    "print(merged_inner)"
   ]
  },
  {
   "cell_type": "code",
   "execution_count": null,
   "metadata": {},
   "outputs": [],
   "source": []
  }
 ],
 "metadata": {
  "kernelspec": {
   "display_name": "Python 3",
   "language": "python",
   "name": "python3"
  },
  "language_info": {
   "codemirror_mode": {
    "name": "ipython",
    "version": 3
   },
   "file_extension": ".py",
   "mimetype": "text/x-python",
   "name": "python",
   "nbconvert_exporter": "python",
   "pygments_lexer": "ipython3",
   "version": "3.7.6"
  }
 },
 "nbformat": 4,
 "nbformat_minor": 4
}
